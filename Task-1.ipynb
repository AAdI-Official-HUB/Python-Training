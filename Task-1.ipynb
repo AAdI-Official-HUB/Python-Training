{
 "cells": [
  {
   "cell_type": "code",
   "execution_count": 1,
   "metadata": {},
   "outputs": [
    {
     "name": "stdout",
     "output_type": "stream",
     "text": [
      "90\n",
      "0\n",
      "24000\n",
      "0.75\n"
     ]
    }
   ],
   "source": [
    "a = 20\n",
    "b = 30 \n",
    "c = 40 \n",
    "\n",
    "print(a+b+c)\n",
    "print((a-b)-(b-c))\n",
    "print(a*b*c)\n",
    "print(b/c)"
   ]
  },
  {
   "cell_type": "code",
   "execution_count": 2,
   "metadata": {},
   "outputs": [
    {
     "name": "stdout",
     "output_type": "stream",
     "text": [
      "('Aaditya Gupta', 22, 0.6)\n"
     ]
    }
   ],
   "source": [
    "myname = 'Aaditya Gupta'\n",
    "myage = 22\n",
    "myexp = 0.6\n",
    "\n",
    "result = (myname, myage, myexp)\n",
    "print(result)"
   ]
  },
  {
   "cell_type": "code",
   "execution_count": 3,
   "metadata": {},
   "outputs": [
    {
     "data": {
      "text/plain": [
       "{'Countries': ['UK', 'USA', 'India', 'Mexico'],\n",
       " 'Capital': ['London', 'Washington DC', 'Delhi', 'Mexico City'],\n",
       " 'Currencies': ('Euro', 'Dollar', 'Rupee', 'Pesos'),\n",
       " 'Length of Countries': {2, 3, 5, 6}}"
      ]
     },
     "execution_count": 3,
     "metadata": {},
     "output_type": "execute_result"
    }
   ],
   "source": [
    "final_dict = dict()\n",
    "countries = [\"UK\", \"USA\", \"India\", \"Mexico\"]\n",
    "capital = [\"London\", \"Washington DC\", \"Delhi\", \"Mexico City\"]\n",
    "currencies = (\"Euro\", \"Dollar\", \"Rupee\", \"Pesos\")\n",
    "len_countries_set = {len(countries[0]), len(countries[1]), len(countries[2]), len(countries[3])}\n",
    "\n",
    "final_dict = {\"Countries\" : countries, \"Capital\" : capital, \"Currencies\" : currencies, \"Length of Countries\" : len_countries_set}\n",
    "final_dict"
   ]
  },
  {
   "cell_type": "code",
   "execution_count": null,
   "metadata": {},
   "outputs": [],
   "source": []
  }
 ],
 "metadata": {
  "kernelspec": {
   "display_name": "Python 3",
   "language": "python",
   "name": "python3"
  },
  "language_info": {
   "codemirror_mode": {
    "name": "ipython",
    "version": 3
   },
   "file_extension": ".py",
   "mimetype": "text/x-python",
   "name": "python",
   "nbconvert_exporter": "python",
   "pygments_lexer": "ipython3",
   "version": "3.7.6"
  }
 },
 "nbformat": 4,
 "nbformat_minor": 4
}
